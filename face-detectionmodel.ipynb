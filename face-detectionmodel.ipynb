{
  "nbformat": 4,
  "nbformat_minor": 0,
  "metadata": {
    "colab": {
      "provenance": [],
      "gpuType": "T4",
      "include_colab_link": true
    },
    "kernelspec": {
      "name": "python3",
      "display_name": "Python 3"
    },
    "language_info": {
      "name": "python"
    },
    "accelerator": "GPU"
  },
  "cells": [
    {
      "cell_type": "markdown",
      "metadata": {
        "id": "view-in-github",
        "colab_type": "text"
      },
      "source": [
        "<a href=\"https://colab.research.google.com/github/Yashsharma009/new/blob/main/face-detectionmodel.ipynb\" target=\"_parent\"><img src=\"https://colab.research.google.com/assets/colab-badge.svg\" alt=\"Open In Colab\"/></a>"
      ]
    },
    {
      "cell_type": "code",
      "execution_count": null,
      "metadata": {
        "colab": {
          "base_uri": "https://localhost:8080/"
        },
        "id": "Uo0LuZB_Icqh",
        "outputId": "3ea887cd-caed-4453-fee1-6c87e7330300"
      },
      "outputs": [
        {
          "output_type": "stream",
          "name": "stdout",
          "text": [
            "Mounted at /content/drive\n"
          ]
        }
      ],
      "source": [
        "from google.colab import drive\n",
        "drive.mount('/content/drive')"
      ]
    },
    {
      "cell_type": "code",
      "source": [
        "!pip install opencv-python-headless\n",
        "!pip install cmake\n",
        "!pip install dlib\n",
        "!pip install face_recognition\n",
        "!pip install IPython\n"
      ],
      "metadata": {
        "colab": {
          "base_uri": "https://localhost:8080/"
        },
        "id": "EQT552iaIoY8",
        "outputId": "c0ed86b9-e408-46e0-9011-a27564eeac3d"
      },
      "execution_count": null,
      "outputs": [
        {
          "output_type": "stream",
          "name": "stdout",
          "text": [
            "Requirement already satisfied: opencv-python-headless in /usr/local/lib/python3.10/dist-packages (4.8.0.74)\n",
            "Requirement already satisfied: numpy>=1.21.2 in /usr/local/lib/python3.10/dist-packages (from opencv-python-headless) (1.22.4)\n",
            "Requirement already satisfied: cmake in /usr/local/lib/python3.10/dist-packages (3.25.2)\n",
            "Requirement already satisfied: dlib in /usr/local/lib/python3.10/dist-packages (19.24.2)\n",
            "Collecting face_recognition\n",
            "  Downloading face_recognition-1.3.0-py2.py3-none-any.whl (15 kB)\n",
            "Collecting face-recognition-models>=0.3.0 (from face_recognition)\n",
            "  Downloading face_recognition_models-0.3.0.tar.gz (100.1 MB)\n",
            "\u001b[2K     \u001b[90m━━━━━━━━━━━━━━━━━━━━━━━━━━━━━━━━━━━━━━\u001b[0m \u001b[32m100.1/100.1 MB\u001b[0m \u001b[31m10.6 MB/s\u001b[0m eta \u001b[36m0:00:00\u001b[0m\n",
            "\u001b[?25h  Preparing metadata (setup.py) ... \u001b[?25l\u001b[?25hdone\n",
            "Requirement already satisfied: Click>=6.0 in /usr/local/lib/python3.10/dist-packages (from face_recognition) (8.1.4)\n",
            "Requirement already satisfied: dlib>=19.7 in /usr/local/lib/python3.10/dist-packages (from face_recognition) (19.24.2)\n",
            "Requirement already satisfied: numpy in /usr/local/lib/python3.10/dist-packages (from face_recognition) (1.22.4)\n",
            "Requirement already satisfied: Pillow in /usr/local/lib/python3.10/dist-packages (from face_recognition) (8.4.0)\n",
            "Building wheels for collected packages: face-recognition-models\n",
            "  Building wheel for face-recognition-models (setup.py) ... \u001b[?25l\u001b[?25hdone\n",
            "  Created wheel for face-recognition-models: filename=face_recognition_models-0.3.0-py2.py3-none-any.whl size=100566173 sha256=b89ccf2105334724d57bf65a72c46c8b81f7eb0812047124a63dc360aeca92e9\n",
            "  Stored in directory: /root/.cache/pip/wheels/7a/eb/cf/e9eced74122b679557f597bb7c8e4c739cfcac526db1fd523d\n",
            "Successfully built face-recognition-models\n",
            "Installing collected packages: face-recognition-models, face_recognition\n",
            "Successfully installed face-recognition-models-0.3.0 face_recognition-1.3.0\n",
            "Requirement already satisfied: IPython in /usr/local/lib/python3.10/dist-packages (7.34.0)\n",
            "Requirement already satisfied: setuptools>=18.5 in /usr/local/lib/python3.10/dist-packages (from IPython) (67.7.2)\n",
            "Collecting jedi>=0.16 (from IPython)\n",
            "  Downloading jedi-0.18.2-py2.py3-none-any.whl (1.6 MB)\n",
            "\u001b[2K     \u001b[90m━━━━━━━━━━━━━━━━━━━━━━━━━━━━━━━━━━━━━━━━\u001b[0m \u001b[32m1.6/1.6 MB\u001b[0m \u001b[31m31.3 MB/s\u001b[0m eta \u001b[36m0:00:00\u001b[0m\n",
            "\u001b[?25hRequirement already satisfied: decorator in /usr/local/lib/python3.10/dist-packages (from IPython) (4.4.2)\n",
            "Requirement already satisfied: pickleshare in /usr/local/lib/python3.10/dist-packages (from IPython) (0.7.5)\n",
            "Requirement already satisfied: traitlets>=4.2 in /usr/local/lib/python3.10/dist-packages (from IPython) (5.7.1)\n",
            "Requirement already satisfied: prompt-toolkit!=3.0.0,!=3.0.1,<3.1.0,>=2.0.0 in /usr/local/lib/python3.10/dist-packages (from IPython) (3.0.39)\n",
            "Requirement already satisfied: pygments in /usr/local/lib/python3.10/dist-packages (from IPython) (2.14.0)\n",
            "Requirement already satisfied: backcall in /usr/local/lib/python3.10/dist-packages (from IPython) (0.2.0)\n",
            "Requirement already satisfied: matplotlib-inline in /usr/local/lib/python3.10/dist-packages (from IPython) (0.1.6)\n",
            "Requirement already satisfied: pexpect>4.3 in /usr/local/lib/python3.10/dist-packages (from IPython) (4.8.0)\n",
            "Requirement already satisfied: parso<0.9.0,>=0.8.0 in /usr/local/lib/python3.10/dist-packages (from jedi>=0.16->IPython) (0.8.3)\n",
            "Requirement already satisfied: ptyprocess>=0.5 in /usr/local/lib/python3.10/dist-packages (from pexpect>4.3->IPython) (0.7.0)\n",
            "Requirement already satisfied: wcwidth in /usr/local/lib/python3.10/dist-packages (from prompt-toolkit!=3.0.0,!=3.0.1,<3.1.0,>=2.0.0->IPython) (0.2.6)\n",
            "Installing collected packages: jedi\n",
            "Successfully installed jedi-0.18.2\n"
          ]
        }
      ]
    },
    {
      "cell_type": "code",
      "source": [
        "import cv2\n",
        "import numpy as np\n",
        "import face_recognition\n",
        "import os\n",
        "from datetime import datetime\n",
        "import csv\n",
        "import matplotlib.pyplot as plt"
      ],
      "metadata": {
        "id": "WUz_ISomIwum"
      },
      "execution_count": null,
      "outputs": []
    },
    {
      "cell_type": "code",
      "source": [
        "train_dir = '/content/drive/MyDrive/train'\n",
        "train_images = []\n",
        "classNames = []\n",
        "rollNumbers = []\n",
        "classes = []\n",
        "myList = os.listdir(train_dir)\n",
        "for cl in myList:\n",
        "    curImg = cv2.imread(os.path.join(train_dir, cl))\n",
        "    train_images.append(curImg)\n",
        "    parts = os.path.splitext(cl)[0].split('_')\n",
        "    if len(parts) >= 3:\n",
        "        name = '_'.join(parts[:-2])\n",
        "        roll_number = parts[-2]\n",
        "        class_name = parts[-1]\n",
        "    else:\n",
        "        name = parts[0]\n",
        "        roll_number = \"\"\n",
        "        class_name = \"\"\n",
        "    classNames.append(name)\n",
        "    rollNumbers.append(roll_number)\n",
        "    classes.append(class_name)\n",
        "\n",
        "print('Names:', classNames)\n",
        "print('Roll Numbers:', rollNumbers)\n",
        "print('Classes:', classes)\n",
        "\n",
        "encodeListKnown = []\n",
        "for img in train_images:\n",
        "    if img is not None:\n",
        "        img = cv2.cvtColor(img, cv2.COLOR_BGR2RGB)\n",
        "        face_encodings = face_recognition.face_encodings(img)\n",
        "        if len(face_encodings) > 0:\n",
        "            encodeListKnown.append(face_encodings[0])\n",
        "\n",
        "print('Encoding Complete')"
      ],
      "metadata": {
        "id": "WNk83xMVIySN"
      },
      "execution_count": null,
      "outputs": []
    },
    {
      "cell_type": "code",
      "source": [
        "from google.colab.patches import cv2_imshow"
      ],
      "metadata": {
        "id": "Ak9fOV_uI5RY"
      },
      "execution_count": null,
      "outputs": []
    },
    {
      "cell_type": "code",
      "source": [
        "# Define the path to the input video\n",
        "input_video_path = '/content/drive/MyDrive/20230715_215944.mp4'\n",
        "\n",
        "# Open the video capture\n",
        "video_capture = cv2.VideoCapture(input_video_path)\n",
        "\n",
        "# Get the total number of frames and calculate the frames per second (fps)\n",
        "total_frames = int(video_capture.get(cv2.CAP_PROP_FRAME_COUNT))\n",
        "fps = int(video_capture.get(cv2.CAP_PROP_FPS))\n",
        "\n",
        "# Calculate the frames to skip per second\n",
        "frames_to_skip = int(round(fps / 1))  # Process 1 frame per second\n",
        "\n",
        "# Initialize an empty list to store the attendance data\n",
        "attendance_data = []\n",
        "processed_names = set()  # Set to store unique names\n",
        "\n",
        "frame_count = 0\n",
        "\n",
        "while video_capture.isOpened():\n",
        "    ret, frame = video_capture.read()\n",
        "    if not ret:\n",
        "        break\n",
        "\n",
        "    frame_count += 1\n",
        "\n",
        "    # Skip frames if necessary\n",
        "    if frame_count % frames_to_skip != 0:\n",
        "        continue\n",
        "\n",
        "    input_image_rgb = cv2.cvtColor(frame, cv2.COLOR_BGR2RGB)\n",
        "\n",
        "    face_locations = face_recognition.face_locations(input_image_rgb, model=\"cnn\")\n",
        "\n",
        "    print(f\"Number of Faces Detected: {len(face_locations)}\")\n",
        "\n",
        "    encodings = face_recognition.face_encodings(input_image_rgb, face_locations)\n",
        "\n",
        "    for face_encoding, face_location in zip(encodings, face_locations):\n",
        "        matches = face_recognition.compare_faces(encodeListKnown, face_encoding)\n",
        "        face_distances = face_recognition.face_distance(encodeListKnown, face_encoding)\n",
        "\n",
        "        if len(face_distances) > 0:\n",
        "            best_match_index = np.argmin(face_distances)\n",
        "            if matches[best_match_index]:\n",
        "                name = classNames[best_match_index]\n",
        "                roll_number = rollNumbers[best_match_index]\n",
        "                class_name = classes[best_match_index]\n",
        "                if name in processed_names:\n",
        "                    continue  # Skip writing the record if the name has already been processed\n",
        "\n",
        "                processed_names.add(name)  # Add the name to the set of processed names\n",
        "\n",
        "                attendance_data.append([name, roll_number, class_name])\n",
        "\n",
        "                top, right, bottom, left = face_location\n",
        "                cv2.rectangle(frame, (left, top), (right, bottom), (0, 255, 0), 2)\n",
        "                cv2.putText(frame, f'{name} ({roll_number}, {class_name})', (left + 6, bottom - 6),\n",
        "                            cv2.FONT_HERSHEY_COMPLEX, 1, (255, 255, 255), 2)\n",
        "            else:\n",
        "                # Keep the non-matching faces blank\n",
        "                cv2.rectangle(frame, (face_location[3], face_location[0]), (face_location[1], face_location[2]),\n",
        "                              (0, 0, 0), cv2.FILLED)\n",
        "\n",
        "    # Display the frame with detections\n",
        "    cv2_imshow(frame)\n",
        "\n",
        "    if cv2.waitKey(1) & 0xFF == ord('q'):\n",
        "        break\n",
        "\n",
        "# Release the video capture and close OpenCV windows\n",
        "video_capture.release()\n",
        "cv2.destroyAllWindows()\n",
        "\n",
        "attendance_file = 'Attendance.csv'\n",
        "\n",
        "with open(attendance_file, 'w', newline='') as f:\n",
        "    csv_writer = csv.writer(f)\n",
        "    csv_writer.writerow(['Name', 'Roll Number', 'Class', 'Timestamp'])\n",
        "    for data in attendance_data:\n",
        "        name, roll_number, class_name = data\n",
        "        now = datetime.now()\n",
        "        dtString = now.strftime('%H:%M:%S')\n",
        "        csv_writer.writerow([name, roll_number, class_name, dtString])\n",
        "\n",
        "# Read the CSV file and display its contents\n",
        "with open(attendance_file, 'r') as f:\n",
        "    csv_reader = csv.reader(f)\n",
        "    for row in csv_reader:\n",
        "        print(row)\n"
      ],
      "metadata": {
        "id": "CwjW61f1WEnO"
      },
      "execution_count": null,
      "outputs": []
    },
    {
      "cell_type": "code",
      "source": [],
      "metadata": {
        "id": "GaYq2S8HWLA-"
      },
      "execution_count": null,
      "outputs": []
    }
  ]
}